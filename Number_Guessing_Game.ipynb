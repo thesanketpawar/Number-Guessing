{
  "nbformat": 4,
  "nbformat_minor": 0,
  "metadata": {
    "colab": {
      "provenance": []
    },
    "kernelspec": {
      "name": "python3",
      "display_name": "Python 3"
    },
    "language_info": {
      "name": "python"
    }
  },
  "cells": [
    {
      "cell_type": "markdown",
      "source": [
        "Number Guessing Game using Python\n",
        "\n",
        "To create a guessing game, we need to write a program to select a random number between 1 and 10. To give hints to the user, we can use conditional statements to tell the user if the guessed number is smaller, greater than or equal to the randomly selected number.\n",
        "\n",
        "So below is how you can write a program to create a number guessing game using Python:\n",
        "\n"
      ],
      "metadata": {
        "id": "RnIN7nbqiupM"
      }
    },
    {
      "cell_type": "code",
      "execution_count": 5,
      "metadata": {
        "colab": {
          "base_uri": "https://localhost:8080/"
        },
        "id": "ehWdtERxiTp0",
        "outputId": "18c3bfe6-c240-4f0c-ae78-7503151a9046"
      },
      "outputs": [
        {
          "output_type": "stream",
          "name": "stdout",
          "text": [
            "ENter ANy Number7\n",
            "You Guessed it right\n"
          ]
        }
      ],
      "source": [
        "import random\n",
        "\n",
        "#Creating variable\n",
        "n = random.randint(1,10)\n",
        "\n",
        "guess = int(input(\"ENter ANy Number\"))\n",
        "#Used While Loop\n",
        "while (guess !=0):\n",
        "  if guess < n:\n",
        "    print(\"Too Low\")\n",
        "    guess = int(input(\"ENter ANy Number\"))\n",
        "  elif guess > n:\n",
        "    print(\"Too High\")\n",
        "    guess = int(input(\"ENter ANy Number\"))\n",
        "  else:\n",
        "    break\n",
        "print(\"You Guessed it right\")"
      ]
    },
    {
      "cell_type": "markdown",
      "source": [
        "If the guessed number is lower than the randomly selected number, the user will see “too low”. If the guessed number is higher than the randomly selected number, the user will see “too high”. When the user guesses the correct number, “you guessed it right!!” will be displayed in the output."
      ],
      "metadata": {
        "id": "cBfTs053n7Jm"
      }
    },
    {
      "cell_type": "code",
      "source": [],
      "metadata": {
        "id": "G7iED_LqisBY"
      },
      "execution_count": null,
      "outputs": []
    },
    {
      "cell_type": "code",
      "source": [],
      "metadata": {
        "id": "swDODdgFisEF"
      },
      "execution_count": null,
      "outputs": []
    },
    {
      "cell_type": "code",
      "source": [],
      "metadata": {
        "id": "5jXsSjf8isG7"
      },
      "execution_count": null,
      "outputs": []
    },
    {
      "cell_type": "code",
      "source": [],
      "metadata": {
        "id": "j4xNxhOIisJj"
      },
      "execution_count": null,
      "outputs": []
    },
    {
      "cell_type": "code",
      "source": [],
      "metadata": {
        "id": "unQq7naAisMN"
      },
      "execution_count": null,
      "outputs": []
    },
    {
      "cell_type": "code",
      "source": [],
      "metadata": {
        "id": "FCVbJseZisPE"
      },
      "execution_count": null,
      "outputs": []
    },
    {
      "cell_type": "code",
      "source": [],
      "metadata": {
        "id": "KKoT4d0RisR7"
      },
      "execution_count": null,
      "outputs": []
    },
    {
      "cell_type": "code",
      "source": [],
      "metadata": {
        "id": "Yo6N5n2NisUu"
      },
      "execution_count": null,
      "outputs": []
    },
    {
      "cell_type": "code",
      "source": [],
      "metadata": {
        "id": "tk6ykMxpisXi"
      },
      "execution_count": null,
      "outputs": []
    }
  ]
}